{
 "cells": [
  {
   "cell_type": "code",
   "execution_count": 1,
   "metadata": {},
   "outputs": [],
   "source": [
    "%load_ext autoreload\n",
    "%autoreload 2\n",
    "import os\n",
    "import sys\n",
    "sys.path.insert(0,\"../\")"
   ]
  },
  {
   "cell_type": "code",
   "execution_count": 2,
   "metadata": {},
   "outputs": [],
   "source": [
    "import matplotsoccer as mps\n",
    "import pandas as pd\n",
    "from tqdm import tqdm"
   ]
  },
  {
   "cell_type": "code",
   "execution_count": 3,
   "metadata": {},
   "outputs": [
    {
     "data": {
      "text/html": [
       "<div>\n",
       "<style scoped>\n",
       "    .dataframe tbody tr th:only-of-type {\n",
       "        vertical-align: middle;\n",
       "    }\n",
       "\n",
       "    .dataframe tbody tr th {\n",
       "        vertical-align: top;\n",
       "    }\n",
       "\n",
       "    .dataframe thead th {\n",
       "        text-align: right;\n",
       "    }\n",
       "</style>\n",
       "<table border=\"1\" class=\"dataframe\">\n",
       "  <thead>\n",
       "    <tr style=\"text-align: right;\">\n",
       "      <th></th>\n",
       "      <th>competition_id</th>\n",
       "      <th>game_id</th>\n",
       "      <th>season_id</th>\n",
       "      <th>matchday</th>\n",
       "      <th>home_team_id</th>\n",
       "      <th>away_team_id</th>\n",
       "      <th>venue_id</th>\n",
       "      <th>referee_id</th>\n",
       "      <th>game_date</th>\n",
       "      <th>attendance</th>\n",
       "      <th>duration</th>\n",
       "    </tr>\n",
       "  </thead>\n",
       "  <tbody>\n",
       "    <tr>\n",
       "      <td>9697</td>\n",
       "      <td>8</td>\n",
       "      <td>855551</td>\n",
       "      <td>2016</td>\n",
       "      <td>38</td>\n",
       "      <td>57</td>\n",
       "      <td>43</td>\n",
       "      <td>73</td>\n",
       "      <td>40936</td>\n",
       "      <td>2017-05-21 14:00:00+00:00</td>\n",
       "      <td>20829</td>\n",
       "      <td>92</td>\n",
       "    </tr>\n",
       "    <tr>\n",
       "      <td>7958</td>\n",
       "      <td>8</td>\n",
       "      <td>855550</td>\n",
       "      <td>2016</td>\n",
       "      <td>38</td>\n",
       "      <td>80</td>\n",
       "      <td>35</td>\n",
       "      <td>2867</td>\n",
       "      <td>10508</td>\n",
       "      <td>2017-05-21 14:00:00+00:00</td>\n",
       "      <td>20889</td>\n",
       "      <td>95</td>\n",
       "    </tr>\n",
       "    <tr>\n",
       "      <td>1069</td>\n",
       "      <td>8</td>\n",
       "      <td>855549</td>\n",
       "      <td>2016</td>\n",
       "      <td>38</td>\n",
       "      <td>20</td>\n",
       "      <td>110</td>\n",
       "      <td>2370</td>\n",
       "      <td>40613</td>\n",
       "      <td>2017-05-21 14:00:00+00:00</td>\n",
       "      <td>31286</td>\n",
       "      <td>94</td>\n",
       "    </tr>\n",
       "    <tr>\n",
       "      <td>3458</td>\n",
       "      <td>8</td>\n",
       "      <td>855548</td>\n",
       "      <td>2016</td>\n",
       "      <td>38</td>\n",
       "      <td>1</td>\n",
       "      <td>31</td>\n",
       "      <td>28</td>\n",
       "      <td>40933</td>\n",
       "      <td>2017-05-21 14:00:00+00:00</td>\n",
       "      <td>75254</td>\n",
       "      <td>94</td>\n",
       "    </tr>\n",
       "    <tr>\n",
       "      <td>1232</td>\n",
       "      <td>8</td>\n",
       "      <td>855547</td>\n",
       "      <td>2016</td>\n",
       "      <td>38</td>\n",
       "      <td>14</td>\n",
       "      <td>25</td>\n",
       "      <td>39</td>\n",
       "      <td>18757</td>\n",
       "      <td>2017-05-21 14:00:00+00:00</td>\n",
       "      <td>53191</td>\n",
       "      <td>93</td>\n",
       "    </tr>\n",
       "  </tbody>\n",
       "</table>\n",
       "</div>"
      ],
      "text/plain": [
       "      competition_id  game_id  season_id  matchday  home_team_id  \\\n",
       "9697               8   855551       2016        38            57   \n",
       "7958               8   855550       2016        38            80   \n",
       "1069               8   855549       2016        38            20   \n",
       "3458               8   855548       2016        38             1   \n",
       "1232               8   855547       2016        38            14   \n",
       "\n",
       "      away_team_id  venue_id  referee_id                 game_date  \\\n",
       "9697            43        73       40936 2017-05-21 14:00:00+00:00   \n",
       "7958            35      2867       10508 2017-05-21 14:00:00+00:00   \n",
       "1069           110      2370       40613 2017-05-21 14:00:00+00:00   \n",
       "3458            31        28       40933 2017-05-21 14:00:00+00:00   \n",
       "1232            25        39       18757 2017-05-21 14:00:00+00:00   \n",
       "\n",
       "      attendance  duration  \n",
       "9697       20829        92  \n",
       "7958       20889        95  \n",
       "1069       31286        94  \n",
       "3458       75254        94  \n",
       "1232       53191        93  "
      ]
     },
     "execution_count": 3,
     "metadata": {},
     "output_type": "execute_result"
    }
   ],
   "source": [
    "data = \"../data/spadl-opta.h5\"\n",
    "games = pd.read_hdf(data,key=\"games\")\n",
    "epl16 = games[(games.competition_id == 8) & (games.season_id == 2016)]\n",
    "epl16[:5]"
   ]
  },
  {
   "cell_type": "code",
   "execution_count": 4,
   "metadata": {},
   "outputs": [
    {
     "name": "stderr",
     "output_type": "stream",
     "text": [
      "100%|██████████| 380/380 [00:04<00:00, 77.49it/s]\n"
     ]
    }
   ],
   "source": [
    "def get_actions(games, hdf_url):\n",
    "    actions = []\n",
    "    for game in tqdm(list(games.itertuples())):\n",
    "        a = pd.read_hdf(hdf_url, key=\"actions/game_\" + str(game.game_id))\n",
    "        a[\"left_to_right\"] = a[\"team_id\"] == game.home_team_id\n",
    "        actions.append(a)\n",
    "    actions = pd.concat(actions)\n",
    "\n",
    "    actions = always_ltr(actions)\n",
    "\n",
    "    actiontypes = pd.read_hdf(hdf_url, key=\"actiontypes\")\n",
    "    actions = actions.merge(actiontypes)\n",
    "\n",
    "    return actions\n",
    "\n",
    "\n",
    "def always_ltr(actions):\n",
    "    away_idx = ~actions.left_to_right\n",
    "    actions.loc[away_idx, \"start_x\"] = 105 - actions[away_idx].start_x.values\n",
    "    actions.loc[away_idx, \"start_y\"] = 68 - actions[away_idx].start_y.values\n",
    "    actions.loc[away_idx, \"end_x\"] = 105 - actions[away_idx].end_x.values\n",
    "    actions.loc[away_idx, \"end_y\"] = 68 - actions[away_idx].end_y.values\n",
    "    return actions\n",
    "\n",
    "actions = get_actions(epl16,data)\n",
    "players = pd.read_hdf(data,key=\"players\")\n",
    "actions = actions.merge(players)"
   ]
  },
  {
   "cell_type": "code",
   "execution_count": 5,
   "metadata": {},
   "outputs": [
    {
     "data": {
      "text/plain": [
       "{'Vincent Kompany'}"
      ]
     },
     "execution_count": 5,
     "metadata": {},
     "output_type": "execute_result"
    }
   ],
   "source": [
    "pa = actions[actions.last_name.str.contains(\"Kompany\")]\n",
    "set(pa.soccer_name)"
   ]
  },
  {
   "cell_type": "code",
   "execution_count": 6,
   "metadata": {
    "scrolled": true
   },
   "outputs": [
    {
     "data": {
      "text/plain": [
       "<matplotlib.collections.PathCollection at 0x7f76c1b3ddd8>"
      ]
     },
     "execution_count": 6,
     "metadata": {},
     "output_type": "execute_result"
    },
    {
     "data": {
      "image/png": "[encoded data removed]",
      "text/plain": [
       "<Figure size 432x288 with 1 Axes>"
      ]
     },
     "metadata": {
      "needs_background": "light"
     },
     "output_type": "display_data"
    }
   ],
   "source": [
    "ax = mps.field(show=False)\n",
    "ax.scatter(pa.start_x,pa.start_y,s=1)"
   ]
  },
  {
   "cell_type": "code",
   "execution_count": 7,
   "metadata": {},
   "outputs": [
    {
     "data": {
      "image/png": "[encoded data removed]",
      "text/plain": [
       "<Figure size 432x288 with 1 Axes>"
      ]
     },
     "metadata": {
      "needs_background": "light"
     },
     "output_type": "display_data"
    },
    {
     "data": {
      "text/plain": [
       "<matplotlib.axes._subplots.AxesSubplot at 0x7f76c15c2e10>"
      ]
     },
     "execution_count": 7,
     "metadata": {},
     "output_type": "execute_result"
    }
   ],
   "source": [
    "import matplotlib.pyplot as plt\n",
    "hm = mps.count(pa.start_x,pa.start_y,n=15,m=15)\n",
    "mps.heatmap(matrix=hm)"
   ]
  },
  {
   "cell_type": "code",
   "execution_count": 10,
   "metadata": {},
   "outputs": [
    {
     "data": {
      "image/png": "[encoded data removed]",
      "text/plain": [
       "<Figure size 432x288 with 1 Axes>"
      ]
     },
     "metadata": {
      "needs_background": "light"
     },
     "output_type": "display_data"
    },
    {
     "data": {
      "text/plain": [
       "<matplotlib.axes._subplots.AxesSubplot at 0x7f76c13f2978>"
      ]
     },
     "execution_count": 10,
     "metadata": {},
     "output_type": "execute_result"
    }
   ],
   "source": [
    "mps.heatmap_green(matrix=hm)"
   ]
  }
 ],
 "metadata": {
  "kernelspec": {
   "display_name": "Python 3",
   "language": "python",
   "name": "python3"
  },
  "language_info": {
   "codemirror_mode": {
    "name": "ipython",
    "version": 3
   },
   "file_extension": ".py",
   "mimetype": "text/x-python",
   "name": "python",
   "nbconvert_exporter": "python",
   "pygments_lexer": "ipython3",
   "version": "3.7.1"
  },
  "varInspector": {
   "cols": {
    "lenName": 16,
    "lenType": 16,
    "lenVar": 40
   },
   "kernels_config": {
    "python": {
     "delete_cmd_postfix": "",
     "delete_cmd_prefix": "del ",
     "library": "var_list.py",
     "varRefreshCmd": "print(var_dic_list())"
    },
    "r": {
     "delete_cmd_postfix": ") ",
     "delete_cmd_prefix": "rm(",
     "library": "var_list.r",
     "varRefreshCmd": "cat(var_dic_list()) "
    }
   },
   "types_to_exclude": [
    "module",
    "function",
    "builtin_function_or_method",
    "instance",
    "_Feature"
   ],
   "window_display": false
  }
 },
 "nbformat": 4,
 "nbformat_minor": 2
}
