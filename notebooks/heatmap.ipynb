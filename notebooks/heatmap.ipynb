{
 "cells": [
  {
   "cell_type": "code",
   "execution_count": 1,
   "metadata": {},
   "outputs": [],
   "source": [
    "%load_ext autoreload\n",
    "%autoreload 2\n",
    "import os\n",
    "import sys\n",
    "sys.path.append(\"../src/\")"
   ]
  },
  {
   "cell_type": "code",
   "execution_count": 2,
   "metadata": {},
   "outputs": [],
   "source": [
    "import matplotsoccer as mps\n",
    "import pandas as pd\n",
    "from tqdm import tqdm"
   ]
  },
  {
   "cell_type": "code",
   "execution_count": 3,
   "metadata": {},
   "outputs": [
    {
     "name": "stderr",
     "output_type": "stream",
     "text": [
      "/home/tomd/software/miniconda3/envs/soccer/lib/python3.7/importlib/_bootstrap.py:219: RuntimeWarning: numpy.dtype size changed, may indicate binary incompatibility. Expected 96, got 88\n",
      "  return f(*args, **kwds)\n"
     ]
    },
    {
     "data": {
      "text/html": [
       "<div>\n",
       "<style scoped>\n",
       "    .dataframe tbody tr th:only-of-type {\n",
       "        vertical-align: middle;\n",
       "    }\n",
       "\n",
       "    .dataframe tbody tr th {\n",
       "        vertical-align: top;\n",
       "    }\n",
       "\n",
       "    .dataframe thead th {\n",
       "        text-align: right;\n",
       "    }\n",
       "</style>\n",
       "<table border=\"1\" class=\"dataframe\">\n",
       "  <thead>\n",
       "    <tr style=\"text-align: right;\">\n",
       "      <th></th>\n",
       "      <th>id</th>\n",
       "      <th>game_date</th>\n",
       "      <th>competition_id</th>\n",
       "      <th>season_id</th>\n",
       "      <th>home_team_id</th>\n",
       "      <th>away_team_id</th>\n",
       "      <th>duration</th>\n",
       "    </tr>\n",
       "  </thead>\n",
       "  <tbody>\n",
       "    <tr>\n",
       "      <th>0</th>\n",
       "      <td>855383</td>\n",
       "      <td>2017-01-22 14:15:00</td>\n",
       "      <td>8</td>\n",
       "      <td>2016</td>\n",
       "      <td>3</td>\n",
       "      <td>90</td>\n",
       "      <td>99</td>\n",
       "    </tr>\n",
       "    <tr>\n",
       "      <th>0</th>\n",
       "      <td>855500</td>\n",
       "      <td>2017-04-15 14:00:00</td>\n",
       "      <td>8</td>\n",
       "      <td>2016</td>\n",
       "      <td>57</td>\n",
       "      <td>80</td>\n",
       "      <td>95</td>\n",
       "    </tr>\n",
       "    <tr>\n",
       "      <th>0</th>\n",
       "      <td>855485</td>\n",
       "      <td>2017-04-08 14:00:00</td>\n",
       "      <td>8</td>\n",
       "      <td>2016</td>\n",
       "      <td>43</td>\n",
       "      <td>88</td>\n",
       "      <td>94</td>\n",
       "    </tr>\n",
       "    <tr>\n",
       "      <th>0</th>\n",
       "      <td>855291</td>\n",
       "      <td>2016-11-21 20:00:00</td>\n",
       "      <td>8</td>\n",
       "      <td>2016</td>\n",
       "      <td>35</td>\n",
       "      <td>90</td>\n",
       "      <td>94</td>\n",
       "    </tr>\n",
       "    <tr>\n",
       "      <th>0</th>\n",
       "      <td>855213</td>\n",
       "      <td>2016-09-18 13:15:00</td>\n",
       "      <td>8</td>\n",
       "      <td>2016</td>\n",
       "      <td>31</td>\n",
       "      <td>110</td>\n",
       "      <td>94</td>\n",
       "    </tr>\n",
       "  </tbody>\n",
       "</table>\n",
       "</div>"
      ],
      "text/plain": [
       "       id           game_date  competition_id  season_id  home_team_id  \\\n",
       "0  855383 2017-01-22 14:15:00               8       2016             3   \n",
       "0  855500 2017-04-15 14:00:00               8       2016            57   \n",
       "0  855485 2017-04-08 14:00:00               8       2016            43   \n",
       "0  855291 2016-11-21 20:00:00               8       2016            35   \n",
       "0  855213 2016-09-18 13:15:00               8       2016            31   \n",
       "\n",
       "   away_team_id  duration  \n",
       "0            90        99  \n",
       "0            80        95  \n",
       "0            88        94  \n",
       "0            90        94  \n",
       "0           110        94  "
      ]
     },
     "execution_count": 3,
     "metadata": {},
     "output_type": "execute_result"
    }
   ],
   "source": [
    "data = \"../data/spadl.hdf\"\n",
    "games = pd.read_hdf(data,key=\"games\")\n",
    "epl16 = games[(games.competition_id == 8) & (games.season_id == 2016)]\n",
    "epl16[:5]"
   ]
  },
  {
   "cell_type": "code",
   "execution_count": 4,
   "metadata": {},
   "outputs": [
    {
     "name": "stderr",
     "output_type": "stream",
     "text": [
      "100%|██████████| 380/380 [00:04<00:00, 87.15it/s]\n"
     ]
    }
   ],
   "source": [
    "def get_actions(games, hdf_url):\n",
    "    actions = []\n",
    "    for game in tqdm(list(games.itertuples())):\n",
    "        a = pd.read_hdf(hdf_url, key=\"actions/\" + str(game.id))\n",
    "        a[\"left_to_right\"] = a[\"team_id\"] == game.home_team_id\n",
    "        actions.append(a)\n",
    "    actions = pd.concat(actions)\n",
    "\n",
    "    actions = always_ltr(actions)\n",
    "\n",
    "    actiontypes = pd.read_hdf(hdf_url, key=\"actiontypes\")\n",
    "    actions = actions.merge(actiontypes, on=\"type_id\")\n",
    "\n",
    "    return actions\n",
    "\n",
    "\n",
    "def always_ltr(actions):\n",
    "    away_idx = ~actions.left_to_right\n",
    "    actions.loc[away_idx, \"start_x\"] = 105 - actions[away_idx].start_x.values\n",
    "    actions.loc[away_idx, \"start_y\"] = 68 - actions[away_idx].start_y.values\n",
    "    actions.loc[away_idx, \"end_x\"] = 105 - actions[away_idx].end_x.values\n",
    "    actions.loc[away_idx, \"end_y\"] = 68 - actions[away_idx].end_y.values\n",
    "    return actions\n",
    "\n",
    "actions = get_actions(epl16,data)\n",
    "players = pd.read_hdf(data,key=\"players\")\n",
    "actions = actions.merge(players,left_on=\"player_id\",right_on=\"id\")"
   ]
  },
  {
   "cell_type": "code",
   "execution_count": 130,
   "metadata": {},
   "outputs": [
    {
     "data": {
      "text/plain": [
       "{'Vincent Kompany'}"
      ]
     },
     "execution_count": 130,
     "metadata": {},
     "output_type": "execute_result"
    }
   ],
   "source": [
    "pa = actions[actions.last_name.str.contains(\"Kompany\")]\n",
    "set(pa.soccer_name)"
   ]
  },
  {
   "cell_type": "code",
   "execution_count": 135,
   "metadata": {},
   "outputs": [
    {
     "data": {
      "text/plain": [
       "<matplotlib.collections.PathCollection at 0x7f6c40408a90>"
      ]
     },
     "execution_count": 135,
     "metadata": {},
     "output_type": "execute_result"
    },
    {
     "data": {
      "image/png": "[encoded data removed]",
      "text/plain": [
       "<Figure size 432x288 with 1 Axes>"
      ]
     },
     "metadata": {
      "needs_background": "light"
     },
     "output_type": "display_data"
    }
   ],
   "source": [
    "ax = mps.field(show=False)\n",
    "ax.scatter(pa.start_x,pa.start_y,s=1)"
   ]
  },
  {
   "cell_type": "code",
   "execution_count": 133,
   "metadata": {},
   "outputs": [
    {
     "data": {
      "image/png": "[encoded data removed]",
      "text/plain": [
       "<Figure size 432x288 with 1 Axes>"
      ]
     },
     "metadata": {
      "needs_background": "light"
     },
     "output_type": "display_data"
    },
    {
     "data": {
      "text/plain": [
       "<matplotlib.axes._subplots.AxesSubplot at 0x7f6c4067d668>"
      ]
     },
     "execution_count": 133,
     "metadata": {},
     "output_type": "execute_result"
    }
   ],
   "source": [
    "import matplotlib.pyplot as plt\n",
    "hm = mps.count(pa.start_x,pa.start_y,n=15,m=15)\n",
    "mps.heatmap(matrix=hm)"
   ]
  }
 ],
 "metadata": {
  "kernelspec": {
   "display_name": "Python 3",
   "language": "python",
   "name": "python3"
  },
  "language_info": {
   "codemirror_mode": {
    "name": "ipython",
    "version": 3
   },
   "file_extension": ".py",
   "mimetype": "text/x-python",
   "name": "python",
   "nbconvert_exporter": "python",
   "pygments_lexer": "ipython3",
   "version": "3.7.1"
  }
 },
 "nbformat": 4,
 "nbformat_minor": 2
}
